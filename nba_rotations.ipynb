{
 "cells": [
  {
   "cell_type": "markdown",
   "id": "5f745128",
   "metadata": {},
   "source": [
    "# NBA Rotation Code\n",
    "## Dan McDonough\n",
    "## May 15th, 2023\n",
    "\n",
    "This notebook (and the accompanying python file) allows the user to see rotation data for the NBA.\n",
    "\n",
    "The user can specify the portion of the season to focus on (regular season vs. playoffs, or specific data parameters), and a required frequency for how often a player needs to play a particular minute of the game to be counted as \"on the court\" during that minute, on average."
   ]
  },
  {
   "cell_type": "code",
   "execution_count": 1,
   "id": "422e16e0",
   "metadata": {},
   "outputs": [],
   "source": [
    "import pandas as pd\n",
    "from nba_api.stats.endpoints import gamerotation, teamgamelog\n",
    "import plotly.express as px\n",
    "import pandas as pd\n",
    "from nba_api.stats.static import teams\n",
    "import time\n",
    "import math\n",
    "from datetime import datetime\n",
    "from utility import get_game_logs, get_rotation_data, process_rotations, get_player_averages, plot_averages"
   ]
  },
  {
   "cell_type": "markdown",
   "id": "31fbfcd0",
   "metadata": {},
   "source": [
    "The first step is to identif which games we want to analyze. I am going to look at the regular season data for the Knicks after Tom Thibodeau shortened the rotation in December"
   ]
  },
  {
   "cell_type": "code",
   "execution_count": 2,
   "id": "f219d0ec",
   "metadata": {},
   "outputs": [
    {
     "data": {
      "text/html": [
       "<div>\n",
       "<style scoped>\n",
       "    .dataframe tbody tr th:only-of-type {\n",
       "        vertical-align: middle;\n",
       "    }\n",
       "\n",
       "    .dataframe tbody tr th {\n",
       "        vertical-align: top;\n",
       "    }\n",
       "\n",
       "    .dataframe thead th {\n",
       "        text-align: right;\n",
       "    }\n",
       "</style>\n",
       "<table border=\"1\" class=\"dataframe\">\n",
       "  <thead>\n",
       "    <tr style=\"text-align: right;\">\n",
       "      <th></th>\n",
       "      <th>Team_ID</th>\n",
       "      <th>Game_ID</th>\n",
       "      <th>GAME_DATE</th>\n",
       "      <th>MATCHUP</th>\n",
       "      <th>WL</th>\n",
       "      <th>W</th>\n",
       "      <th>L</th>\n",
       "      <th>W_PCT</th>\n",
       "      <th>MIN</th>\n",
       "      <th>FGM</th>\n",
       "      <th>...</th>\n",
       "      <th>DREB</th>\n",
       "      <th>REB</th>\n",
       "      <th>AST</th>\n",
       "      <th>STL</th>\n",
       "      <th>BLK</th>\n",
       "      <th>TOV</th>\n",
       "      <th>PF</th>\n",
       "      <th>PTS</th>\n",
       "      <th>keep_ind</th>\n",
       "      <th>home_ind</th>\n",
       "    </tr>\n",
       "  </thead>\n",
       "  <tbody>\n",
       "    <tr>\n",
       "      <th>0</th>\n",
       "      <td>1610612752</td>\n",
       "      <td>0022201220</td>\n",
       "      <td>2023-04-09</td>\n",
       "      <td>NYK vs. IND</td>\n",
       "      <td>L</td>\n",
       "      <td>47</td>\n",
       "      <td>35</td>\n",
       "      <td>0.573</td>\n",
       "      <td>240</td>\n",
       "      <td>52</td>\n",
       "      <td>...</td>\n",
       "      <td>34</td>\n",
       "      <td>53</td>\n",
       "      <td>29</td>\n",
       "      <td>8</td>\n",
       "      <td>8</td>\n",
       "      <td>15</td>\n",
       "      <td>24</td>\n",
       "      <td>136</td>\n",
       "      <td>1</td>\n",
       "      <td>1</td>\n",
       "    </tr>\n",
       "    <tr>\n",
       "      <th>1</th>\n",
       "      <td>1610612752</td>\n",
       "      <td>0022201209</td>\n",
       "      <td>2023-04-07</td>\n",
       "      <td>NYK @ NOP</td>\n",
       "      <td>L</td>\n",
       "      <td>47</td>\n",
       "      <td>34</td>\n",
       "      <td>0.580</td>\n",
       "      <td>240</td>\n",
       "      <td>38</td>\n",
       "      <td>...</td>\n",
       "      <td>30</td>\n",
       "      <td>37</td>\n",
       "      <td>19</td>\n",
       "      <td>5</td>\n",
       "      <td>2</td>\n",
       "      <td>9</td>\n",
       "      <td>17</td>\n",
       "      <td>105</td>\n",
       "      <td>1</td>\n",
       "      <td>0</td>\n",
       "    </tr>\n",
       "    <tr>\n",
       "      <th>2</th>\n",
       "      <td>1610612752</td>\n",
       "      <td>0022201190</td>\n",
       "      <td>2023-04-05</td>\n",
       "      <td>NYK @ IND</td>\n",
       "      <td>W</td>\n",
       "      <td>47</td>\n",
       "      <td>33</td>\n",
       "      <td>0.588</td>\n",
       "      <td>240</td>\n",
       "      <td>52</td>\n",
       "      <td>...</td>\n",
       "      <td>32</td>\n",
       "      <td>52</td>\n",
       "      <td>34</td>\n",
       "      <td>13</td>\n",
       "      <td>8</td>\n",
       "      <td>14</td>\n",
       "      <td>21</td>\n",
       "      <td>138</td>\n",
       "      <td>1</td>\n",
       "      <td>0</td>\n",
       "    </tr>\n",
       "    <tr>\n",
       "      <th>3</th>\n",
       "      <td>1610612752</td>\n",
       "      <td>0022201168</td>\n",
       "      <td>2023-04-02</td>\n",
       "      <td>NYK vs. WAS</td>\n",
       "      <td>W</td>\n",
       "      <td>46</td>\n",
       "      <td>33</td>\n",
       "      <td>0.582</td>\n",
       "      <td>240</td>\n",
       "      <td>46</td>\n",
       "      <td>...</td>\n",
       "      <td>32</td>\n",
       "      <td>39</td>\n",
       "      <td>31</td>\n",
       "      <td>12</td>\n",
       "      <td>4</td>\n",
       "      <td>11</td>\n",
       "      <td>17</td>\n",
       "      <td>118</td>\n",
       "      <td>1</td>\n",
       "      <td>1</td>\n",
       "    </tr>\n",
       "    <tr>\n",
       "      <th>4</th>\n",
       "      <td>1610612752</td>\n",
       "      <td>0022201154</td>\n",
       "      <td>2023-03-31</td>\n",
       "      <td>NYK @ CLE</td>\n",
       "      <td>W</td>\n",
       "      <td>45</td>\n",
       "      <td>33</td>\n",
       "      <td>0.577</td>\n",
       "      <td>240</td>\n",
       "      <td>49</td>\n",
       "      <td>...</td>\n",
       "      <td>32</td>\n",
       "      <td>48</td>\n",
       "      <td>24</td>\n",
       "      <td>6</td>\n",
       "      <td>5</td>\n",
       "      <td>7</td>\n",
       "      <td>12</td>\n",
       "      <td>130</td>\n",
       "      <td>1</td>\n",
       "      <td>0</td>\n",
       "    </tr>\n",
       "  </tbody>\n",
       "</table>\n",
       "<p>5 rows × 29 columns</p>\n",
       "</div>"
      ],
      "text/plain": [
       "      Team_ID     Game_ID  GAME_DATE      MATCHUP WL   W   L  W_PCT  MIN  FGM  \\\n",
       "0  1610612752  0022201220 2023-04-09  NYK vs. IND  L  47  35  0.573  240   52   \n",
       "1  1610612752  0022201209 2023-04-07    NYK @ NOP  L  47  34  0.580  240   38   \n",
       "2  1610612752  0022201190 2023-04-05    NYK @ IND  W  47  33  0.588  240   52   \n",
       "3  1610612752  0022201168 2023-04-02  NYK vs. WAS  W  46  33  0.582  240   46   \n",
       "4  1610612752  0022201154 2023-03-31    NYK @ CLE  W  45  33  0.577  240   49   \n",
       "\n",
       "   ...  DREB  REB  AST  STL  BLK  TOV  PF  PTS  keep_ind  home_ind  \n",
       "0  ...    34   53   29    8    8   15  24  136         1         1  \n",
       "1  ...    30   37   19    5    2    9  17  105         1         0  \n",
       "2  ...    32   52   34   13    8   14  21  138         1         0  \n",
       "3  ...    32   39   31   12    4   11  17  118         1         1  \n",
       "4  ...    32   48   24    6    5    7  12  130         1         0  \n",
       "\n",
       "[5 rows x 29 columns]"
      ]
     },
     "execution_count": 2,
     "metadata": {},
     "output_type": "execute_result"
    }
   ],
   "source": [
    "game_log_df = get_game_logs(team='Knicks',season='2022-23',season_mode='Regular Season',start='2023-2-18',end='2023-4-10')\n",
    "game_log_df.head()"
   ]
  },
  {
   "cell_type": "markdown",
   "id": "a42839a8",
   "metadata": {},
   "source": [
    "Next, I will call the NBA API to get full rotation data for these games"
   ]
  },
  {
   "cell_type": "code",
   "execution_count": 3,
   "id": "1f66f1f2",
   "metadata": {},
   "outputs": [
    {
     "data": {
      "text/html": [
       "<div>\n",
       "<style scoped>\n",
       "    .dataframe tbody tr th:only-of-type {\n",
       "        vertical-align: middle;\n",
       "    }\n",
       "\n",
       "    .dataframe tbody tr th {\n",
       "        vertical-align: top;\n",
       "    }\n",
       "\n",
       "    .dataframe thead th {\n",
       "        text-align: right;\n",
       "    }\n",
       "</style>\n",
       "<table border=\"1\" class=\"dataframe\">\n",
       "  <thead>\n",
       "    <tr style=\"text-align: right;\">\n",
       "      <th></th>\n",
       "      <th>GAME_ID</th>\n",
       "      <th>TEAM_ID</th>\n",
       "      <th>TEAM_CITY</th>\n",
       "      <th>TEAM_NAME</th>\n",
       "      <th>PERSON_ID</th>\n",
       "      <th>PLAYER_FIRST</th>\n",
       "      <th>PLAYER_LAST</th>\n",
       "      <th>IN_TIME_REAL</th>\n",
       "      <th>OUT_TIME_REAL</th>\n",
       "      <th>PLAYER_PTS</th>\n",
       "      <th>PT_DIFF</th>\n",
       "      <th>USG_PCT</th>\n",
       "      <th>GAME_DATE</th>\n",
       "      <th>Name</th>\n",
       "    </tr>\n",
       "  </thead>\n",
       "  <tbody>\n",
       "    <tr>\n",
       "      <th>0</th>\n",
       "      <td>0022201220</td>\n",
       "      <td>1610612752</td>\n",
       "      <td>New York</td>\n",
       "      <td>Knicks</td>\n",
       "      <td>203095</td>\n",
       "      <td>Evan</td>\n",
       "      <td>Fournier</td>\n",
       "      <td>5670.0</td>\n",
       "      <td>10220.0</td>\n",
       "      <td>0</td>\n",
       "      <td>-4.0</td>\n",
       "      <td>0.091</td>\n",
       "      <td>2023-04-09</td>\n",
       "      <td>Evan Fournier</td>\n",
       "    </tr>\n",
       "    <tr>\n",
       "      <th>1</th>\n",
       "      <td>0022201220</td>\n",
       "      <td>1610612752</td>\n",
       "      <td>New York</td>\n",
       "      <td>Knicks</td>\n",
       "      <td>203095</td>\n",
       "      <td>Evan</td>\n",
       "      <td>Fournier</td>\n",
       "      <td>21600.0</td>\n",
       "      <td>24080.0</td>\n",
       "      <td>0</td>\n",
       "      <td>-12.0</td>\n",
       "      <td>0.375</td>\n",
       "      <td>2023-04-09</td>\n",
       "      <td>Evan Fournier</td>\n",
       "    </tr>\n",
       "    <tr>\n",
       "      <th>2</th>\n",
       "      <td>0022201220</td>\n",
       "      <td>1610612752</td>\n",
       "      <td>New York</td>\n",
       "      <td>Knicks</td>\n",
       "      <td>1628392</td>\n",
       "      <td>Isaiah</td>\n",
       "      <td>Hartenstein</td>\n",
       "      <td>1660.0</td>\n",
       "      <td>7820.0</td>\n",
       "      <td>4</td>\n",
       "      <td>1.0</td>\n",
       "      <td>0.103</td>\n",
       "      <td>2023-04-09</td>\n",
       "      <td>Isaiah Hartenstein</td>\n",
       "    </tr>\n",
       "    <tr>\n",
       "      <th>3</th>\n",
       "      <td>0022201220</td>\n",
       "      <td>1610612752</td>\n",
       "      <td>New York</td>\n",
       "      <td>Knicks</td>\n",
       "      <td>1628392</td>\n",
       "      <td>Isaiah</td>\n",
       "      <td>Hartenstein</td>\n",
       "      <td>19280.0</td>\n",
       "      <td>25610.0</td>\n",
       "      <td>4</td>\n",
       "      <td>-24.0</td>\n",
       "      <td>0.167</td>\n",
       "      <td>2023-04-09</td>\n",
       "      <td>Isaiah Hartenstein</td>\n",
       "    </tr>\n",
       "    <tr>\n",
       "      <th>4</th>\n",
       "      <td>0022201220</td>\n",
       "      <td>1610612752</td>\n",
       "      <td>New York</td>\n",
       "      <td>Knicks</td>\n",
       "      <td>1628404</td>\n",
       "      <td>Josh</td>\n",
       "      <td>Hart</td>\n",
       "      <td>4530.0</td>\n",
       "      <td>11590.0</td>\n",
       "      <td>8</td>\n",
       "      <td>-3.0</td>\n",
       "      <td>0.200</td>\n",
       "      <td>2023-04-09</td>\n",
       "      <td>Josh Hart</td>\n",
       "    </tr>\n",
       "  </tbody>\n",
       "</table>\n",
       "</div>"
      ],
      "text/plain": [
       "      GAME_ID     TEAM_ID TEAM_CITY TEAM_NAME  PERSON_ID PLAYER_FIRST  \\\n",
       "0  0022201220  1610612752  New York    Knicks     203095         Evan   \n",
       "1  0022201220  1610612752  New York    Knicks     203095         Evan   \n",
       "2  0022201220  1610612752  New York    Knicks    1628392       Isaiah   \n",
       "3  0022201220  1610612752  New York    Knicks    1628392       Isaiah   \n",
       "4  0022201220  1610612752  New York    Knicks    1628404         Josh   \n",
       "\n",
       "   PLAYER_LAST  IN_TIME_REAL  OUT_TIME_REAL  PLAYER_PTS  PT_DIFF  USG_PCT  \\\n",
       "0     Fournier        5670.0        10220.0           0     -4.0    0.091   \n",
       "1     Fournier       21600.0        24080.0           0    -12.0    0.375   \n",
       "2  Hartenstein        1660.0         7820.0           4      1.0    0.103   \n",
       "3  Hartenstein       19280.0        25610.0           4    -24.0    0.167   \n",
       "4         Hart        4530.0        11590.0           8     -3.0    0.200   \n",
       "\n",
       "   GAME_DATE                Name  \n",
       "0 2023-04-09       Evan Fournier  \n",
       "1 2023-04-09       Evan Fournier  \n",
       "2 2023-04-09  Isaiah Hartenstein  \n",
       "3 2023-04-09  Isaiah Hartenstein  \n",
       "4 2023-04-09           Josh Hart  "
      ]
     },
     "execution_count": 3,
     "metadata": {},
     "output_type": "execute_result"
    }
   ],
   "source": [
    "full_rotation_data = get_rotation_data(game_log_df)\n",
    "full_rotation_data.head()"
   ]
  },
  {
   "cell_type": "markdown",
   "id": "9da5d42c",
   "metadata": {},
   "source": [
    "I will then transform this data into a dataframe that shows which of the 48 minutes each player played each game"
   ]
  },
  {
   "cell_type": "code",
   "execution_count": 4,
   "id": "c8d59edf",
   "metadata": {
    "scrolled": true
   },
   "outputs": [
    {
     "data": {
      "text/html": [
       "<div>\n",
       "<style scoped>\n",
       "    .dataframe tbody tr th:only-of-type {\n",
       "        vertical-align: middle;\n",
       "    }\n",
       "\n",
       "    .dataframe tbody tr th {\n",
       "        vertical-align: top;\n",
       "    }\n",
       "\n",
       "    .dataframe thead th {\n",
       "        text-align: right;\n",
       "    }\n",
       "</style>\n",
       "<table border=\"1\" class=\"dataframe\">\n",
       "  <thead>\n",
       "    <tr style=\"text-align: right;\">\n",
       "      <th></th>\n",
       "      <th>Minute</th>\n",
       "      <th>Name</th>\n",
       "      <th>On</th>\n",
       "    </tr>\n",
       "  </thead>\n",
       "  <tbody>\n",
       "    <tr>\n",
       "      <th>0</th>\n",
       "      <td>0</td>\n",
       "      <td>Evan Fournier</td>\n",
       "      <td>0</td>\n",
       "    </tr>\n",
       "    <tr>\n",
       "      <th>1</th>\n",
       "      <td>1</td>\n",
       "      <td>Evan Fournier</td>\n",
       "      <td>0</td>\n",
       "    </tr>\n",
       "    <tr>\n",
       "      <th>2</th>\n",
       "      <td>2</td>\n",
       "      <td>Evan Fournier</td>\n",
       "      <td>0</td>\n",
       "    </tr>\n",
       "    <tr>\n",
       "      <th>3</th>\n",
       "      <td>3</td>\n",
       "      <td>Evan Fournier</td>\n",
       "      <td>0</td>\n",
       "    </tr>\n",
       "    <tr>\n",
       "      <th>4</th>\n",
       "      <td>4</td>\n",
       "      <td>Evan Fournier</td>\n",
       "      <td>0</td>\n",
       "    </tr>\n",
       "  </tbody>\n",
       "</table>\n",
       "</div>"
      ],
      "text/plain": [
       "   Minute           Name  On\n",
       "0       0  Evan Fournier   0\n",
       "1       1  Evan Fournier   0\n",
       "2       2  Evan Fournier   0\n",
       "3       3  Evan Fournier   0\n",
       "4       4  Evan Fournier   0"
      ]
     },
     "execution_count": 4,
     "metadata": {},
     "output_type": "execute_result"
    }
   ],
   "source": [
    "full_player_data = process_rotations(full_rotation_data)\n",
    "full_player_data.head()"
   ]
  },
  {
   "cell_type": "markdown",
   "id": "966db2e9",
   "metadata": {},
   "source": [
    "Finally, I will calculate the average subtitution patterns of each player"
   ]
  },
  {
   "cell_type": "code",
   "execution_count": 11,
   "id": "02616275",
   "metadata": {},
   "outputs": [
    {
     "data": {
      "text/html": [
       "<div>\n",
       "<style scoped>\n",
       "    .dataframe tbody tr th:only-of-type {\n",
       "        vertical-align: middle;\n",
       "    }\n",
       "\n",
       "    .dataframe tbody tr th {\n",
       "        vertical-align: top;\n",
       "    }\n",
       "\n",
       "    .dataframe thead th {\n",
       "        text-align: right;\n",
       "    }\n",
       "</style>\n",
       "<table border=\"1\" class=\"dataframe\">\n",
       "  <thead>\n",
       "    <tr style=\"text-align: right;\">\n",
       "      <th></th>\n",
       "      <th>Name</th>\n",
       "      <th>Start</th>\n",
       "      <th>End</th>\n",
       "      <th>Delta</th>\n",
       "    </tr>\n",
       "  </thead>\n",
       "  <tbody>\n",
       "    <tr>\n",
       "      <th>0</th>\n",
       "      <td>Immanuel Quickley</td>\n",
       "      <td>0</td>\n",
       "      <td>47</td>\n",
       "      <td>47</td>\n",
       "    </tr>\n",
       "    <tr>\n",
       "      <th>1</th>\n",
       "      <td>Isaiah Hartenstein</td>\n",
       "      <td>7</td>\n",
       "      <td>18</td>\n",
       "      <td>11</td>\n",
       "    </tr>\n",
       "    <tr>\n",
       "      <th>2</th>\n",
       "      <td>Isaiah Hartenstein</td>\n",
       "      <td>32</td>\n",
       "      <td>45</td>\n",
       "      <td>13</td>\n",
       "    </tr>\n",
       "    <tr>\n",
       "      <th>3</th>\n",
       "      <td>Jalen Brunson</td>\n",
       "      <td>0</td>\n",
       "      <td>10</td>\n",
       "      <td>10</td>\n",
       "    </tr>\n",
       "    <tr>\n",
       "      <th>4</th>\n",
       "      <td>Jalen Brunson</td>\n",
       "      <td>17</td>\n",
       "      <td>33</td>\n",
       "      <td>16</td>\n",
       "    </tr>\n",
       "  </tbody>\n",
       "</table>\n",
       "</div>"
      ],
      "text/plain": [
       "                 Name  Start  End  Delta\n",
       "0   Immanuel Quickley      0   47     47\n",
       "1  Isaiah Hartenstein      7   18     11\n",
       "2  Isaiah Hartenstein     32   45     13\n",
       "3       Jalen Brunson      0   10     10\n",
       "4       Jalen Brunson     17   33     16"
      ]
     },
     "execution_count": 11,
     "metadata": {},
     "output_type": "execute_result"
    }
   ],
   "source": [
    "average_player_data = get_player_averages(full_player_data, game_log_df, 0.5)\n",
    "average_player_data.head()"
   ]
  },
  {
   "cell_type": "markdown",
   "id": "5a8c5810",
   "metadata": {},
   "source": [
    "Here is a visual output of the data"
   ]
  },
  {
   "cell_type": "code",
   "execution_count": 12,
   "id": "02a5adfc",
   "metadata": {},
   "outputs": [
    {
     "data": {
      "application/vnd.plotly.v1+json": {
       "config": {
        "plotlyServerURL": "https://plot.ly"
       },
       "data": [
        {
         "alignmentgroup": "True",
         "base": [
          0
         ],
         "hovertemplate": "Name=%{y}<br>Start=%{base}<br>End=%{x}<extra></extra>",
         "legendgroup": "Immanuel Quickley",
         "marker": {
          "color": "#636efa",
          "pattern": {
           "shape": ""
          }
         },
         "name": "Immanuel Quickley",
         "offsetgroup": "Immanuel Quickley",
         "orientation": "h",
         "showlegend": true,
         "textposition": "auto",
         "type": "bar",
         "x": [
          47
         ],
         "xaxis": "x",
         "y": [
          "Immanuel Quickley"
         ],
         "yaxis": "y"
        },
        {
         "alignmentgroup": "True",
         "base": [
          7,
          32
         ],
         "hovertemplate": "Name=%{y}<br>Start=%{base}<br>End=%{x}<extra></extra>",
         "legendgroup": "Isaiah Hartenstein",
         "marker": {
          "color": "#EF553B",
          "pattern": {
           "shape": ""
          }
         },
         "name": "Isaiah Hartenstein",
         "offsetgroup": "Isaiah Hartenstein",
         "orientation": "h",
         "showlegend": true,
         "textposition": "auto",
         "type": "bar",
         "x": [
          11,
          13
         ],
         "xaxis": "x",
         "y": [
          "Isaiah Hartenstein",
          "Isaiah Hartenstein"
         ],
         "yaxis": "y"
        },
        {
         "alignmentgroup": "True",
         "base": [
          0,
          17
         ],
         "hovertemplate": "Name=%{y}<br>Start=%{base}<br>End=%{x}<extra></extra>",
         "legendgroup": "Jalen Brunson",
         "marker": {
          "color": "#00cc96",
          "pattern": {
           "shape": ""
          }
         },
         "name": "Jalen Brunson",
         "offsetgroup": "Jalen Brunson",
         "orientation": "h",
         "showlegend": true,
         "textposition": "auto",
         "type": "bar",
         "x": [
          10,
          16
         ],
         "xaxis": "x",
         "y": [
          "Jalen Brunson",
          "Jalen Brunson"
         ],
         "yaxis": "y"
        },
        {
         "alignmentgroup": "True",
         "base": [
          7,
          31
         ],
         "hovertemplate": "Name=%{y}<br>Start=%{base}<br>End=%{x}<extra></extra>",
         "legendgroup": "Josh Hart",
         "marker": {
          "color": "#ab63fa",
          "pattern": {
           "shape": ""
          }
         },
         "name": "Josh Hart",
         "offsetgroup": "Josh Hart",
         "orientation": "h",
         "showlegend": true,
         "textposition": "auto",
         "type": "bar",
         "x": [
          18,
          16
         ],
         "xaxis": "x",
         "y": [
          "Josh Hart",
          "Josh Hart"
         ],
         "yaxis": "y"
        },
        {
         "alignmentgroup": "True",
         "base": [
          0,
          18,
          41
         ],
         "hovertemplate": "Name=%{y}<br>Start=%{base}<br>End=%{x}<extra></extra>",
         "legendgroup": "Julius Randle",
         "marker": {
          "color": "#FFA15A",
          "pattern": {
           "shape": ""
          }
         },
         "name": "Julius Randle",
         "offsetgroup": "Julius Randle",
         "orientation": "h",
         "showlegend": true,
         "textposition": "auto",
         "type": "bar",
         "x": [
          13,
          19,
          6
         ],
         "xaxis": "x",
         "y": [
          "Julius Randle",
          "Julius Randle",
          "Julius Randle"
         ],
         "yaxis": "y"
        },
        {
         "alignmentgroup": "True",
         "base": [
          11
         ],
         "hovertemplate": "Name=%{y}<br>Start=%{base}<br>End=%{x}<extra></extra>",
         "legendgroup": "Miles McBride",
         "marker": {
          "color": "#19d3f3",
          "pattern": {
           "shape": ""
          }
         },
         "name": "Miles McBride",
         "offsetgroup": "Miles McBride",
         "orientation": "h",
         "showlegend": true,
         "textposition": "auto",
         "type": "bar",
         "x": [
          7
         ],
         "xaxis": "x",
         "y": [
          "Miles McBride"
         ],
         "yaxis": "y"
        },
        {
         "alignmentgroup": "True",
         "base": [
          0,
          16,
          42
         ],
         "hovertemplate": "Name=%{y}<br>Start=%{base}<br>End=%{x}<extra></extra>",
         "legendgroup": "Mitchell Robinson",
         "marker": {
          "color": "#FF6692",
          "pattern": {
           "shape": ""
          }
         },
         "name": "Mitchell Robinson",
         "offsetgroup": "Mitchell Robinson",
         "orientation": "h",
         "showlegend": true,
         "textposition": "auto",
         "type": "bar",
         "x": [
          9,
          18,
          5
         ],
         "xaxis": "x",
         "y": [
          "Mitchell Robinson",
          "Mitchell Robinson",
          "Mitchell Robinson"
         ],
         "yaxis": "y"
        },
        {
         "alignmentgroup": "True",
         "base": [
          12,
          36
         ],
         "hovertemplate": "Name=%{y}<br>Start=%{base}<br>End=%{x}<extra></extra>",
         "legendgroup": "Obi Toppin",
         "marker": {
          "color": "#B6E880",
          "pattern": {
           "shape": ""
          }
         },
         "name": "Obi Toppin",
         "offsetgroup": "Obi Toppin",
         "orientation": "h",
         "showlegend": true,
         "textposition": "auto",
         "type": "bar",
         "x": [
          8,
          7
         ],
         "xaxis": "x",
         "y": [
          "Obi Toppin",
          "Obi Toppin"
         ],
         "yaxis": "y"
        },
        {
         "alignmentgroup": "True",
         "base": [
          0,
          18,
          43
         ],
         "hovertemplate": "Name=%{y}<br>Start=%{base}<br>End=%{x}<extra></extra>",
         "legendgroup": "Quentin Grimes",
         "marker": {
          "color": "#FF97FF",
          "pattern": {
           "shape": ""
          }
         },
         "name": "Quentin Grimes",
         "offsetgroup": "Quentin Grimes",
         "orientation": "h",
         "showlegend": true,
         "textposition": "auto",
         "type": "bar",
         "x": [
          13,
          19,
          4
         ],
         "xaxis": "x",
         "y": [
          "Quentin Grimes",
          "Quentin Grimes",
          "Quentin Grimes"
         ],
         "yaxis": "y"
        },
        {
         "alignmentgroup": "True",
         "base": [
          0,
          12,
          20,
          36,
          45
         ],
         "hovertemplate": "Name=%{y}<br>Start=%{base}<br>End=%{x}<extra></extra>",
         "legendgroup": "RJ Barrett",
         "marker": {
          "color": "#FECB52",
          "pattern": {
           "shape": ""
          }
         },
         "name": "RJ Barrett",
         "offsetgroup": "RJ Barrett",
         "orientation": "h",
         "showlegend": true,
         "textposition": "auto",
         "type": "bar",
         "x": [
          9,
          7,
          13,
          8,
          2
         ],
         "xaxis": "x",
         "y": [
          "RJ Barrett",
          "RJ Barrett",
          "RJ Barrett",
          "RJ Barrett",
          "RJ Barrett"
         ],
         "yaxis": "y"
        }
       ],
       "layout": {
        "barmode": "overlay",
        "legend": {
         "title": {
          "text": "Name"
         },
         "tracegroupgap": 0
        },
        "margin": {
         "t": 60
        },
        "template": {
         "data": {
          "bar": [
           {
            "error_x": {
             "color": "#2a3f5f"
            },
            "error_y": {
             "color": "#2a3f5f"
            },
            "marker": {
             "line": {
              "color": "#E5ECF6",
              "width": 0.5
             },
             "pattern": {
              "fillmode": "overlay",
              "size": 10,
              "solidity": 0.2
             }
            },
            "type": "bar"
           }
          ],
          "barpolar": [
           {
            "marker": {
             "line": {
              "color": "#E5ECF6",
              "width": 0.5
             },
             "pattern": {
              "fillmode": "overlay",
              "size": 10,
              "solidity": 0.2
             }
            },
            "type": "barpolar"
           }
          ],
          "carpet": [
           {
            "aaxis": {
             "endlinecolor": "#2a3f5f",
             "gridcolor": "white",
             "linecolor": "white",
             "minorgridcolor": "white",
             "startlinecolor": "#2a3f5f"
            },
            "baxis": {
             "endlinecolor": "#2a3f5f",
             "gridcolor": "white",
             "linecolor": "white",
             "minorgridcolor": "white",
             "startlinecolor": "#2a3f5f"
            },
            "type": "carpet"
           }
          ],
          "choropleth": [
           {
            "colorbar": {
             "outlinewidth": 0,
             "ticks": ""
            },
            "type": "choropleth"
           }
          ],
          "contour": [
           {
            "colorbar": {
             "outlinewidth": 0,
             "ticks": ""
            },
            "colorscale": [
             [
              0,
              "#0d0887"
             ],
             [
              0.1111111111111111,
              "#46039f"
             ],
             [
              0.2222222222222222,
              "#7201a8"
             ],
             [
              0.3333333333333333,
              "#9c179e"
             ],
             [
              0.4444444444444444,
              "#bd3786"
             ],
             [
              0.5555555555555556,
              "#d8576b"
             ],
             [
              0.6666666666666666,
              "#ed7953"
             ],
             [
              0.7777777777777778,
              "#fb9f3a"
             ],
             [
              0.8888888888888888,
              "#fdca26"
             ],
             [
              1,
              "#f0f921"
             ]
            ],
            "type": "contour"
           }
          ],
          "contourcarpet": [
           {
            "colorbar": {
             "outlinewidth": 0,
             "ticks": ""
            },
            "type": "contourcarpet"
           }
          ],
          "heatmap": [
           {
            "colorbar": {
             "outlinewidth": 0,
             "ticks": ""
            },
            "colorscale": [
             [
              0,
              "#0d0887"
             ],
             [
              0.1111111111111111,
              "#46039f"
             ],
             [
              0.2222222222222222,
              "#7201a8"
             ],
             [
              0.3333333333333333,
              "#9c179e"
             ],
             [
              0.4444444444444444,
              "#bd3786"
             ],
             [
              0.5555555555555556,
              "#d8576b"
             ],
             [
              0.6666666666666666,
              "#ed7953"
             ],
             [
              0.7777777777777778,
              "#fb9f3a"
             ],
             [
              0.8888888888888888,
              "#fdca26"
             ],
             [
              1,
              "#f0f921"
             ]
            ],
            "type": "heatmap"
           }
          ],
          "heatmapgl": [
           {
            "colorbar": {
             "outlinewidth": 0,
             "ticks": ""
            },
            "colorscale": [
             [
              0,
              "#0d0887"
             ],
             [
              0.1111111111111111,
              "#46039f"
             ],
             [
              0.2222222222222222,
              "#7201a8"
             ],
             [
              0.3333333333333333,
              "#9c179e"
             ],
             [
              0.4444444444444444,
              "#bd3786"
             ],
             [
              0.5555555555555556,
              "#d8576b"
             ],
             [
              0.6666666666666666,
              "#ed7953"
             ],
             [
              0.7777777777777778,
              "#fb9f3a"
             ],
             [
              0.8888888888888888,
              "#fdca26"
             ],
             [
              1,
              "#f0f921"
             ]
            ],
            "type": "heatmapgl"
           }
          ],
          "histogram": [
           {
            "marker": {
             "pattern": {
              "fillmode": "overlay",
              "size": 10,
              "solidity": 0.2
             }
            },
            "type": "histogram"
           }
          ],
          "histogram2d": [
           {
            "colorbar": {
             "outlinewidth": 0,
             "ticks": ""
            },
            "colorscale": [
             [
              0,
              "#0d0887"
             ],
             [
              0.1111111111111111,
              "#46039f"
             ],
             [
              0.2222222222222222,
              "#7201a8"
             ],
             [
              0.3333333333333333,
              "#9c179e"
             ],
             [
              0.4444444444444444,
              "#bd3786"
             ],
             [
              0.5555555555555556,
              "#d8576b"
             ],
             [
              0.6666666666666666,
              "#ed7953"
             ],
             [
              0.7777777777777778,
              "#fb9f3a"
             ],
             [
              0.8888888888888888,
              "#fdca26"
             ],
             [
              1,
              "#f0f921"
             ]
            ],
            "type": "histogram2d"
           }
          ],
          "histogram2dcontour": [
           {
            "colorbar": {
             "outlinewidth": 0,
             "ticks": ""
            },
            "colorscale": [
             [
              0,
              "#0d0887"
             ],
             [
              0.1111111111111111,
              "#46039f"
             ],
             [
              0.2222222222222222,
              "#7201a8"
             ],
             [
              0.3333333333333333,
              "#9c179e"
             ],
             [
              0.4444444444444444,
              "#bd3786"
             ],
             [
              0.5555555555555556,
              "#d8576b"
             ],
             [
              0.6666666666666666,
              "#ed7953"
             ],
             [
              0.7777777777777778,
              "#fb9f3a"
             ],
             [
              0.8888888888888888,
              "#fdca26"
             ],
             [
              1,
              "#f0f921"
             ]
            ],
            "type": "histogram2dcontour"
           }
          ],
          "mesh3d": [
           {
            "colorbar": {
             "outlinewidth": 0,
             "ticks": ""
            },
            "type": "mesh3d"
           }
          ],
          "parcoords": [
           {
            "line": {
             "colorbar": {
              "outlinewidth": 0,
              "ticks": ""
             }
            },
            "type": "parcoords"
           }
          ],
          "pie": [
           {
            "automargin": true,
            "type": "pie"
           }
          ],
          "scatter": [
           {
            "fillpattern": {
             "fillmode": "overlay",
             "size": 10,
             "solidity": 0.2
            },
            "type": "scatter"
           }
          ],
          "scatter3d": [
           {
            "line": {
             "colorbar": {
              "outlinewidth": 0,
              "ticks": ""
             }
            },
            "marker": {
             "colorbar": {
              "outlinewidth": 0,
              "ticks": ""
             }
            },
            "type": "scatter3d"
           }
          ],
          "scattercarpet": [
           {
            "marker": {
             "colorbar": {
              "outlinewidth": 0,
              "ticks": ""
             }
            },
            "type": "scattercarpet"
           }
          ],
          "scattergeo": [
           {
            "marker": {
             "colorbar": {
              "outlinewidth": 0,
              "ticks": ""
             }
            },
            "type": "scattergeo"
           }
          ],
          "scattergl": [
           {
            "marker": {
             "colorbar": {
              "outlinewidth": 0,
              "ticks": ""
             }
            },
            "type": "scattergl"
           }
          ],
          "scattermapbox": [
           {
            "marker": {
             "colorbar": {
              "outlinewidth": 0,
              "ticks": ""
             }
            },
            "type": "scattermapbox"
           }
          ],
          "scatterpolar": [
           {
            "marker": {
             "colorbar": {
              "outlinewidth": 0,
              "ticks": ""
             }
            },
            "type": "scatterpolar"
           }
          ],
          "scatterpolargl": [
           {
            "marker": {
             "colorbar": {
              "outlinewidth": 0,
              "ticks": ""
             }
            },
            "type": "scatterpolargl"
           }
          ],
          "scatterternary": [
           {
            "marker": {
             "colorbar": {
              "outlinewidth": 0,
              "ticks": ""
             }
            },
            "type": "scatterternary"
           }
          ],
          "surface": [
           {
            "colorbar": {
             "outlinewidth": 0,
             "ticks": ""
            },
            "colorscale": [
             [
              0,
              "#0d0887"
             ],
             [
              0.1111111111111111,
              "#46039f"
             ],
             [
              0.2222222222222222,
              "#7201a8"
             ],
             [
              0.3333333333333333,
              "#9c179e"
             ],
             [
              0.4444444444444444,
              "#bd3786"
             ],
             [
              0.5555555555555556,
              "#d8576b"
             ],
             [
              0.6666666666666666,
              "#ed7953"
             ],
             [
              0.7777777777777778,
              "#fb9f3a"
             ],
             [
              0.8888888888888888,
              "#fdca26"
             ],
             [
              1,
              "#f0f921"
             ]
            ],
            "type": "surface"
           }
          ],
          "table": [
           {
            "cells": {
             "fill": {
              "color": "#EBF0F8"
             },
             "line": {
              "color": "white"
             }
            },
            "header": {
             "fill": {
              "color": "#C8D4E3"
             },
             "line": {
              "color": "white"
             }
            },
            "type": "table"
           }
          ]
         },
         "layout": {
          "annotationdefaults": {
           "arrowcolor": "#2a3f5f",
           "arrowhead": 0,
           "arrowwidth": 1
          },
          "autotypenumbers": "strict",
          "coloraxis": {
           "colorbar": {
            "outlinewidth": 0,
            "ticks": ""
           }
          },
          "colorscale": {
           "diverging": [
            [
             0,
             "#8e0152"
            ],
            [
             0.1,
             "#c51b7d"
            ],
            [
             0.2,
             "#de77ae"
            ],
            [
             0.3,
             "#f1b6da"
            ],
            [
             0.4,
             "#fde0ef"
            ],
            [
             0.5,
             "#f7f7f7"
            ],
            [
             0.6,
             "#e6f5d0"
            ],
            [
             0.7,
             "#b8e186"
            ],
            [
             0.8,
             "#7fbc41"
            ],
            [
             0.9,
             "#4d9221"
            ],
            [
             1,
             "#276419"
            ]
           ],
           "sequential": [
            [
             0,
             "#0d0887"
            ],
            [
             0.1111111111111111,
             "#46039f"
            ],
            [
             0.2222222222222222,
             "#7201a8"
            ],
            [
             0.3333333333333333,
             "#9c179e"
            ],
            [
             0.4444444444444444,
             "#bd3786"
            ],
            [
             0.5555555555555556,
             "#d8576b"
            ],
            [
             0.6666666666666666,
             "#ed7953"
            ],
            [
             0.7777777777777778,
             "#fb9f3a"
            ],
            [
             0.8888888888888888,
             "#fdca26"
            ],
            [
             1,
             "#f0f921"
            ]
           ],
           "sequentialminus": [
            [
             0,
             "#0d0887"
            ],
            [
             0.1111111111111111,
             "#46039f"
            ],
            [
             0.2222222222222222,
             "#7201a8"
            ],
            [
             0.3333333333333333,
             "#9c179e"
            ],
            [
             0.4444444444444444,
             "#bd3786"
            ],
            [
             0.5555555555555556,
             "#d8576b"
            ],
            [
             0.6666666666666666,
             "#ed7953"
            ],
            [
             0.7777777777777778,
             "#fb9f3a"
            ],
            [
             0.8888888888888888,
             "#fdca26"
            ],
            [
             1,
             "#f0f921"
            ]
           ]
          },
          "colorway": [
           "#636efa",
           "#EF553B",
           "#00cc96",
           "#ab63fa",
           "#FFA15A",
           "#19d3f3",
           "#FF6692",
           "#B6E880",
           "#FF97FF",
           "#FECB52"
          ],
          "font": {
           "color": "#2a3f5f"
          },
          "geo": {
           "bgcolor": "white",
           "lakecolor": "white",
           "landcolor": "#E5ECF6",
           "showlakes": true,
           "showland": true,
           "subunitcolor": "white"
          },
          "hoverlabel": {
           "align": "left"
          },
          "hovermode": "closest",
          "mapbox": {
           "style": "light"
          },
          "paper_bgcolor": "white",
          "plot_bgcolor": "#E5ECF6",
          "polar": {
           "angularaxis": {
            "gridcolor": "white",
            "linecolor": "white",
            "ticks": ""
           },
           "bgcolor": "#E5ECF6",
           "radialaxis": {
            "gridcolor": "white",
            "linecolor": "white",
            "ticks": ""
           }
          },
          "scene": {
           "xaxis": {
            "backgroundcolor": "#E5ECF6",
            "gridcolor": "white",
            "gridwidth": 2,
            "linecolor": "white",
            "showbackground": true,
            "ticks": "",
            "zerolinecolor": "white"
           },
           "yaxis": {
            "backgroundcolor": "#E5ECF6",
            "gridcolor": "white",
            "gridwidth": 2,
            "linecolor": "white",
            "showbackground": true,
            "ticks": "",
            "zerolinecolor": "white"
           },
           "zaxis": {
            "backgroundcolor": "#E5ECF6",
            "gridcolor": "white",
            "gridwidth": 2,
            "linecolor": "white",
            "showbackground": true,
            "ticks": "",
            "zerolinecolor": "white"
           }
          },
          "shapedefaults": {
           "line": {
            "color": "#2a3f5f"
           }
          },
          "ternary": {
           "aaxis": {
            "gridcolor": "white",
            "linecolor": "white",
            "ticks": ""
           },
           "baxis": {
            "gridcolor": "white",
            "linecolor": "white",
            "ticks": ""
           },
           "bgcolor": "#E5ECF6",
           "caxis": {
            "gridcolor": "white",
            "linecolor": "white",
            "ticks": ""
           }
          },
          "title": {
           "x": 0.05
          },
          "xaxis": {
           "automargin": true,
           "gridcolor": "white",
           "linecolor": "white",
           "ticks": "",
           "title": {
            "standoff": 15
           },
           "zerolinecolor": "white",
           "zerolinewidth": 2
          },
          "yaxis": {
           "automargin": true,
           "gridcolor": "white",
           "linecolor": "white",
           "ticks": "",
           "title": {
            "standoff": 15
           },
           "zerolinecolor": "white",
           "zerolinewidth": 2
          }
         }
        },
        "xaxis": {
         "anchor": "y",
         "domain": [
          0,
          1
         ],
         "type": "linear"
        },
        "yaxis": {
         "anchor": "x",
         "categoryarray": [
          "RJ Barrett",
          "Quentin Grimes",
          "Obi Toppin",
          "Mitchell Robinson",
          "Miles McBride",
          "Julius Randle",
          "Josh Hart",
          "Jalen Brunson",
          "Isaiah Hartenstein",
          "Immanuel Quickley"
         ],
         "categoryorder": "array",
         "domain": [
          0,
          1
         ],
         "title": {
          "text": "Name"
         }
        }
       }
      },
      "text/html": [
       "<div>                            <div id=\"55b9558a-987d-43c3-ba88-3689df4c64c6\" class=\"plotly-graph-div\" style=\"height:525px; width:100%;\"></div>            <script type=\"text/javascript\">                require([\"plotly\"], function(Plotly) {                    window.PLOTLYENV=window.PLOTLYENV || {};                                    if (document.getElementById(\"55b9558a-987d-43c3-ba88-3689df4c64c6\")) {                    Plotly.newPlot(                        \"55b9558a-987d-43c3-ba88-3689df4c64c6\",                        [{\"alignmentgroup\":\"True\",\"base\":[0],\"hovertemplate\":\"Name=%{y}<br>Start=%{base}<br>End=%{x}<extra></extra>\",\"legendgroup\":\"Immanuel Quickley\",\"marker\":{\"color\":\"#636efa\",\"pattern\":{\"shape\":\"\"}},\"name\":\"Immanuel Quickley\",\"offsetgroup\":\"Immanuel Quickley\",\"orientation\":\"h\",\"showlegend\":true,\"textposition\":\"auto\",\"x\":[47],\"xaxis\":\"x\",\"y\":[\"Immanuel Quickley\"],\"yaxis\":\"y\",\"type\":\"bar\"},{\"alignmentgroup\":\"True\",\"base\":[7,32],\"hovertemplate\":\"Name=%{y}<br>Start=%{base}<br>End=%{x}<extra></extra>\",\"legendgroup\":\"Isaiah Hartenstein\",\"marker\":{\"color\":\"#EF553B\",\"pattern\":{\"shape\":\"\"}},\"name\":\"Isaiah Hartenstein\",\"offsetgroup\":\"Isaiah Hartenstein\",\"orientation\":\"h\",\"showlegend\":true,\"textposition\":\"auto\",\"x\":[11,13],\"xaxis\":\"x\",\"y\":[\"Isaiah Hartenstein\",\"Isaiah Hartenstein\"],\"yaxis\":\"y\",\"type\":\"bar\"},{\"alignmentgroup\":\"True\",\"base\":[0,17],\"hovertemplate\":\"Name=%{y}<br>Start=%{base}<br>End=%{x}<extra></extra>\",\"legendgroup\":\"Jalen Brunson\",\"marker\":{\"color\":\"#00cc96\",\"pattern\":{\"shape\":\"\"}},\"name\":\"Jalen Brunson\",\"offsetgroup\":\"Jalen Brunson\",\"orientation\":\"h\",\"showlegend\":true,\"textposition\":\"auto\",\"x\":[10,16],\"xaxis\":\"x\",\"y\":[\"Jalen Brunson\",\"Jalen Brunson\"],\"yaxis\":\"y\",\"type\":\"bar\"},{\"alignmentgroup\":\"True\",\"base\":[7,31],\"hovertemplate\":\"Name=%{y}<br>Start=%{base}<br>End=%{x}<extra></extra>\",\"legendgroup\":\"Josh Hart\",\"marker\":{\"color\":\"#ab63fa\",\"pattern\":{\"shape\":\"\"}},\"name\":\"Josh Hart\",\"offsetgroup\":\"Josh Hart\",\"orientation\":\"h\",\"showlegend\":true,\"textposition\":\"auto\",\"x\":[18,16],\"xaxis\":\"x\",\"y\":[\"Josh Hart\",\"Josh Hart\"],\"yaxis\":\"y\",\"type\":\"bar\"},{\"alignmentgroup\":\"True\",\"base\":[0,18,41],\"hovertemplate\":\"Name=%{y}<br>Start=%{base}<br>End=%{x}<extra></extra>\",\"legendgroup\":\"Julius Randle\",\"marker\":{\"color\":\"#FFA15A\",\"pattern\":{\"shape\":\"\"}},\"name\":\"Julius Randle\",\"offsetgroup\":\"Julius Randle\",\"orientation\":\"h\",\"showlegend\":true,\"textposition\":\"auto\",\"x\":[13,19,6],\"xaxis\":\"x\",\"y\":[\"Julius Randle\",\"Julius Randle\",\"Julius Randle\"],\"yaxis\":\"y\",\"type\":\"bar\"},{\"alignmentgroup\":\"True\",\"base\":[11],\"hovertemplate\":\"Name=%{y}<br>Start=%{base}<br>End=%{x}<extra></extra>\",\"legendgroup\":\"Miles McBride\",\"marker\":{\"color\":\"#19d3f3\",\"pattern\":{\"shape\":\"\"}},\"name\":\"Miles McBride\",\"offsetgroup\":\"Miles McBride\",\"orientation\":\"h\",\"showlegend\":true,\"textposition\":\"auto\",\"x\":[7],\"xaxis\":\"x\",\"y\":[\"Miles McBride\"],\"yaxis\":\"y\",\"type\":\"bar\"},{\"alignmentgroup\":\"True\",\"base\":[0,16,42],\"hovertemplate\":\"Name=%{y}<br>Start=%{base}<br>End=%{x}<extra></extra>\",\"legendgroup\":\"Mitchell Robinson\",\"marker\":{\"color\":\"#FF6692\",\"pattern\":{\"shape\":\"\"}},\"name\":\"Mitchell Robinson\",\"offsetgroup\":\"Mitchell Robinson\",\"orientation\":\"h\",\"showlegend\":true,\"textposition\":\"auto\",\"x\":[9,18,5],\"xaxis\":\"x\",\"y\":[\"Mitchell Robinson\",\"Mitchell Robinson\",\"Mitchell Robinson\"],\"yaxis\":\"y\",\"type\":\"bar\"},{\"alignmentgroup\":\"True\",\"base\":[12,36],\"hovertemplate\":\"Name=%{y}<br>Start=%{base}<br>End=%{x}<extra></extra>\",\"legendgroup\":\"Obi Toppin\",\"marker\":{\"color\":\"#B6E880\",\"pattern\":{\"shape\":\"\"}},\"name\":\"Obi Toppin\",\"offsetgroup\":\"Obi Toppin\",\"orientation\":\"h\",\"showlegend\":true,\"textposition\":\"auto\",\"x\":[8,7],\"xaxis\":\"x\",\"y\":[\"Obi Toppin\",\"Obi Toppin\"],\"yaxis\":\"y\",\"type\":\"bar\"},{\"alignmentgroup\":\"True\",\"base\":[0,18,43],\"hovertemplate\":\"Name=%{y}<br>Start=%{base}<br>End=%{x}<extra></extra>\",\"legendgroup\":\"Quentin Grimes\",\"marker\":{\"color\":\"#FF97FF\",\"pattern\":{\"shape\":\"\"}},\"name\":\"Quentin Grimes\",\"offsetgroup\":\"Quentin Grimes\",\"orientation\":\"h\",\"showlegend\":true,\"textposition\":\"auto\",\"x\":[13,19,4],\"xaxis\":\"x\",\"y\":[\"Quentin Grimes\",\"Quentin Grimes\",\"Quentin Grimes\"],\"yaxis\":\"y\",\"type\":\"bar\"},{\"alignmentgroup\":\"True\",\"base\":[0,12,20,36,45],\"hovertemplate\":\"Name=%{y}<br>Start=%{base}<br>End=%{x}<extra></extra>\",\"legendgroup\":\"RJ Barrett\",\"marker\":{\"color\":\"#FECB52\",\"pattern\":{\"shape\":\"\"}},\"name\":\"RJ Barrett\",\"offsetgroup\":\"RJ Barrett\",\"orientation\":\"h\",\"showlegend\":true,\"textposition\":\"auto\",\"x\":[9,7,13,8,2],\"xaxis\":\"x\",\"y\":[\"RJ Barrett\",\"RJ Barrett\",\"RJ Barrett\",\"RJ Barrett\",\"RJ Barrett\"],\"yaxis\":\"y\",\"type\":\"bar\"}],                        {\"template\":{\"data\":{\"histogram2dcontour\":[{\"type\":\"histogram2dcontour\",\"colorbar\":{\"outlinewidth\":0,\"ticks\":\"\"},\"colorscale\":[[0.0,\"#0d0887\"],[0.1111111111111111,\"#46039f\"],[0.2222222222222222,\"#7201a8\"],[0.3333333333333333,\"#9c179e\"],[0.4444444444444444,\"#bd3786\"],[0.5555555555555556,\"#d8576b\"],[0.6666666666666666,\"#ed7953\"],[0.7777777777777778,\"#fb9f3a\"],[0.8888888888888888,\"#fdca26\"],[1.0,\"#f0f921\"]]}],\"choropleth\":[{\"type\":\"choropleth\",\"colorbar\":{\"outlinewidth\":0,\"ticks\":\"\"}}],\"histogram2d\":[{\"type\":\"histogram2d\",\"colorbar\":{\"outlinewidth\":0,\"ticks\":\"\"},\"colorscale\":[[0.0,\"#0d0887\"],[0.1111111111111111,\"#46039f\"],[0.2222222222222222,\"#7201a8\"],[0.3333333333333333,\"#9c179e\"],[0.4444444444444444,\"#bd3786\"],[0.5555555555555556,\"#d8576b\"],[0.6666666666666666,\"#ed7953\"],[0.7777777777777778,\"#fb9f3a\"],[0.8888888888888888,\"#fdca26\"],[1.0,\"#f0f921\"]]}],\"heatmap\":[{\"type\":\"heatmap\",\"colorbar\":{\"outlinewidth\":0,\"ticks\":\"\"},\"colorscale\":[[0.0,\"#0d0887\"],[0.1111111111111111,\"#46039f\"],[0.2222222222222222,\"#7201a8\"],[0.3333333333333333,\"#9c179e\"],[0.4444444444444444,\"#bd3786\"],[0.5555555555555556,\"#d8576b\"],[0.6666666666666666,\"#ed7953\"],[0.7777777777777778,\"#fb9f3a\"],[0.8888888888888888,\"#fdca26\"],[1.0,\"#f0f921\"]]}],\"heatmapgl\":[{\"type\":\"heatmapgl\",\"colorbar\":{\"outlinewidth\":0,\"ticks\":\"\"},\"colorscale\":[[0.0,\"#0d0887\"],[0.1111111111111111,\"#46039f\"],[0.2222222222222222,\"#7201a8\"],[0.3333333333333333,\"#9c179e\"],[0.4444444444444444,\"#bd3786\"],[0.5555555555555556,\"#d8576b\"],[0.6666666666666666,\"#ed7953\"],[0.7777777777777778,\"#fb9f3a\"],[0.8888888888888888,\"#fdca26\"],[1.0,\"#f0f921\"]]}],\"contourcarpet\":[{\"type\":\"contourcarpet\",\"colorbar\":{\"outlinewidth\":0,\"ticks\":\"\"}}],\"contour\":[{\"type\":\"contour\",\"colorbar\":{\"outlinewidth\":0,\"ticks\":\"\"},\"colorscale\":[[0.0,\"#0d0887\"],[0.1111111111111111,\"#46039f\"],[0.2222222222222222,\"#7201a8\"],[0.3333333333333333,\"#9c179e\"],[0.4444444444444444,\"#bd3786\"],[0.5555555555555556,\"#d8576b\"],[0.6666666666666666,\"#ed7953\"],[0.7777777777777778,\"#fb9f3a\"],[0.8888888888888888,\"#fdca26\"],[1.0,\"#f0f921\"]]}],\"surface\":[{\"type\":\"surface\",\"colorbar\":{\"outlinewidth\":0,\"ticks\":\"\"},\"colorscale\":[[0.0,\"#0d0887\"],[0.1111111111111111,\"#46039f\"],[0.2222222222222222,\"#7201a8\"],[0.3333333333333333,\"#9c179e\"],[0.4444444444444444,\"#bd3786\"],[0.5555555555555556,\"#d8576b\"],[0.6666666666666666,\"#ed7953\"],[0.7777777777777778,\"#fb9f3a\"],[0.8888888888888888,\"#fdca26\"],[1.0,\"#f0f921\"]]}],\"mesh3d\":[{\"type\":\"mesh3d\",\"colorbar\":{\"outlinewidth\":0,\"ticks\":\"\"}}],\"scatter\":[{\"fillpattern\":{\"fillmode\":\"overlay\",\"size\":10,\"solidity\":0.2},\"type\":\"scatter\"}],\"parcoords\":[{\"type\":\"parcoords\",\"line\":{\"colorbar\":{\"outlinewidth\":0,\"ticks\":\"\"}}}],\"scatterpolargl\":[{\"type\":\"scatterpolargl\",\"marker\":{\"colorbar\":{\"outlinewidth\":0,\"ticks\":\"\"}}}],\"bar\":[{\"error_x\":{\"color\":\"#2a3f5f\"},\"error_y\":{\"color\":\"#2a3f5f\"},\"marker\":{\"line\":{\"color\":\"#E5ECF6\",\"width\":0.5},\"pattern\":{\"fillmode\":\"overlay\",\"size\":10,\"solidity\":0.2}},\"type\":\"bar\"}],\"scattergeo\":[{\"type\":\"scattergeo\",\"marker\":{\"colorbar\":{\"outlinewidth\":0,\"ticks\":\"\"}}}],\"scatterpolar\":[{\"type\":\"scatterpolar\",\"marker\":{\"colorbar\":{\"outlinewidth\":0,\"ticks\":\"\"}}}],\"histogram\":[{\"marker\":{\"pattern\":{\"fillmode\":\"overlay\",\"size\":10,\"solidity\":0.2}},\"type\":\"histogram\"}],\"scattergl\":[{\"type\":\"scattergl\",\"marker\":{\"colorbar\":{\"outlinewidth\":0,\"ticks\":\"\"}}}],\"scatter3d\":[{\"type\":\"scatter3d\",\"line\":{\"colorbar\":{\"outlinewidth\":0,\"ticks\":\"\"}},\"marker\":{\"colorbar\":{\"outlinewidth\":0,\"ticks\":\"\"}}}],\"scattermapbox\":[{\"type\":\"scattermapbox\",\"marker\":{\"colorbar\":{\"outlinewidth\":0,\"ticks\":\"\"}}}],\"scatterternary\":[{\"type\":\"scatterternary\",\"marker\":{\"colorbar\":{\"outlinewidth\":0,\"ticks\":\"\"}}}],\"scattercarpet\":[{\"type\":\"scattercarpet\",\"marker\":{\"colorbar\":{\"outlinewidth\":0,\"ticks\":\"\"}}}],\"carpet\":[{\"aaxis\":{\"endlinecolor\":\"#2a3f5f\",\"gridcolor\":\"white\",\"linecolor\":\"white\",\"minorgridcolor\":\"white\",\"startlinecolor\":\"#2a3f5f\"},\"baxis\":{\"endlinecolor\":\"#2a3f5f\",\"gridcolor\":\"white\",\"linecolor\":\"white\",\"minorgridcolor\":\"white\",\"startlinecolor\":\"#2a3f5f\"},\"type\":\"carpet\"}],\"table\":[{\"cells\":{\"fill\":{\"color\":\"#EBF0F8\"},\"line\":{\"color\":\"white\"}},\"header\":{\"fill\":{\"color\":\"#C8D4E3\"},\"line\":{\"color\":\"white\"}},\"type\":\"table\"}],\"barpolar\":[{\"marker\":{\"line\":{\"color\":\"#E5ECF6\",\"width\":0.5},\"pattern\":{\"fillmode\":\"overlay\",\"size\":10,\"solidity\":0.2}},\"type\":\"barpolar\"}],\"pie\":[{\"automargin\":true,\"type\":\"pie\"}]},\"layout\":{\"autotypenumbers\":\"strict\",\"colorway\":[\"#636efa\",\"#EF553B\",\"#00cc96\",\"#ab63fa\",\"#FFA15A\",\"#19d3f3\",\"#FF6692\",\"#B6E880\",\"#FF97FF\",\"#FECB52\"],\"font\":{\"color\":\"#2a3f5f\"},\"hovermode\":\"closest\",\"hoverlabel\":{\"align\":\"left\"},\"paper_bgcolor\":\"white\",\"plot_bgcolor\":\"#E5ECF6\",\"polar\":{\"bgcolor\":\"#E5ECF6\",\"angularaxis\":{\"gridcolor\":\"white\",\"linecolor\":\"white\",\"ticks\":\"\"},\"radialaxis\":{\"gridcolor\":\"white\",\"linecolor\":\"white\",\"ticks\":\"\"}},\"ternary\":{\"bgcolor\":\"#E5ECF6\",\"aaxis\":{\"gridcolor\":\"white\",\"linecolor\":\"white\",\"ticks\":\"\"},\"baxis\":{\"gridcolor\":\"white\",\"linecolor\":\"white\",\"ticks\":\"\"},\"caxis\":{\"gridcolor\":\"white\",\"linecolor\":\"white\",\"ticks\":\"\"}},\"coloraxis\":{\"colorbar\":{\"outlinewidth\":0,\"ticks\":\"\"}},\"colorscale\":{\"sequential\":[[0.0,\"#0d0887\"],[0.1111111111111111,\"#46039f\"],[0.2222222222222222,\"#7201a8\"],[0.3333333333333333,\"#9c179e\"],[0.4444444444444444,\"#bd3786\"],[0.5555555555555556,\"#d8576b\"],[0.6666666666666666,\"#ed7953\"],[0.7777777777777778,\"#fb9f3a\"],[0.8888888888888888,\"#fdca26\"],[1.0,\"#f0f921\"]],\"sequentialminus\":[[0.0,\"#0d0887\"],[0.1111111111111111,\"#46039f\"],[0.2222222222222222,\"#7201a8\"],[0.3333333333333333,\"#9c179e\"],[0.4444444444444444,\"#bd3786\"],[0.5555555555555556,\"#d8576b\"],[0.6666666666666666,\"#ed7953\"],[0.7777777777777778,\"#fb9f3a\"],[0.8888888888888888,\"#fdca26\"],[1.0,\"#f0f921\"]],\"diverging\":[[0,\"#8e0152\"],[0.1,\"#c51b7d\"],[0.2,\"#de77ae\"],[0.3,\"#f1b6da\"],[0.4,\"#fde0ef\"],[0.5,\"#f7f7f7\"],[0.6,\"#e6f5d0\"],[0.7,\"#b8e186\"],[0.8,\"#7fbc41\"],[0.9,\"#4d9221\"],[1,\"#276419\"]]},\"xaxis\":{\"gridcolor\":\"white\",\"linecolor\":\"white\",\"ticks\":\"\",\"title\":{\"standoff\":15},\"zerolinecolor\":\"white\",\"automargin\":true,\"zerolinewidth\":2},\"yaxis\":{\"gridcolor\":\"white\",\"linecolor\":\"white\",\"ticks\":\"\",\"title\":{\"standoff\":15},\"zerolinecolor\":\"white\",\"automargin\":true,\"zerolinewidth\":2},\"scene\":{\"xaxis\":{\"backgroundcolor\":\"#E5ECF6\",\"gridcolor\":\"white\",\"linecolor\":\"white\",\"showbackground\":true,\"ticks\":\"\",\"zerolinecolor\":\"white\",\"gridwidth\":2},\"yaxis\":{\"backgroundcolor\":\"#E5ECF6\",\"gridcolor\":\"white\",\"linecolor\":\"white\",\"showbackground\":true,\"ticks\":\"\",\"zerolinecolor\":\"white\",\"gridwidth\":2},\"zaxis\":{\"backgroundcolor\":\"#E5ECF6\",\"gridcolor\":\"white\",\"linecolor\":\"white\",\"showbackground\":true,\"ticks\":\"\",\"zerolinecolor\":\"white\",\"gridwidth\":2}},\"shapedefaults\":{\"line\":{\"color\":\"#2a3f5f\"}},\"annotationdefaults\":{\"arrowcolor\":\"#2a3f5f\",\"arrowhead\":0,\"arrowwidth\":1},\"geo\":{\"bgcolor\":\"white\",\"landcolor\":\"#E5ECF6\",\"subunitcolor\":\"white\",\"showland\":true,\"showlakes\":true,\"lakecolor\":\"white\"},\"title\":{\"x\":0.05},\"mapbox\":{\"style\":\"light\"}}},\"xaxis\":{\"anchor\":\"y\",\"domain\":[0.0,1.0],\"type\":\"linear\"},\"yaxis\":{\"anchor\":\"x\",\"domain\":[0.0,1.0],\"title\":{\"text\":\"Name\"},\"categoryorder\":\"array\",\"categoryarray\":[\"RJ Barrett\",\"Quentin Grimes\",\"Obi Toppin\",\"Mitchell Robinson\",\"Miles McBride\",\"Julius Randle\",\"Josh Hart\",\"Jalen Brunson\",\"Isaiah Hartenstein\",\"Immanuel Quickley\"]},\"legend\":{\"title\":{\"text\":\"Name\"},\"tracegroupgap\":0},\"margin\":{\"t\":60},\"barmode\":\"overlay\"},                        {\"responsive\": true}                    ).then(function(){\n",
       "                            \n",
       "var gd = document.getElementById('55b9558a-987d-43c3-ba88-3689df4c64c6');\n",
       "var x = new MutationObserver(function (mutations, observer) {{\n",
       "        var display = window.getComputedStyle(gd).display;\n",
       "        if (!display || display === 'none') {{\n",
       "            console.log([gd, 'removed!']);\n",
       "            Plotly.purge(gd);\n",
       "            observer.disconnect();\n",
       "        }}\n",
       "}});\n",
       "\n",
       "// Listen for the removal of the full notebook cells\n",
       "var notebookContainer = gd.closest('#notebook-container');\n",
       "if (notebookContainer) {{\n",
       "    x.observe(notebookContainer, {childList: true});\n",
       "}}\n",
       "\n",
       "// Listen for the clearing of the current output cell\n",
       "var outputEl = gd.closest('.output');\n",
       "if (outputEl) {{\n",
       "    x.observe(outputEl, {childList: true});\n",
       "}}\n",
       "\n",
       "                        })                };                });            </script>        </div>"
      ]
     },
     "metadata": {},
     "output_type": "display_data"
    }
   ],
   "source": [
    "plot_averages(average_player_data)"
   ]
  }
 ],
 "metadata": {
  "kernelspec": {
   "display_name": "Python 3 (ipykernel)",
   "language": "python",
   "name": "python3"
  },
  "language_info": {
   "codemirror_mode": {
    "name": "ipython",
    "version": 3
   },
   "file_extension": ".py",
   "mimetype": "text/x-python",
   "name": "python",
   "nbconvert_exporter": "python",
   "pygments_lexer": "ipython3",
   "version": "3.7.16"
  }
 },
 "nbformat": 4,
 "nbformat_minor": 5
}
